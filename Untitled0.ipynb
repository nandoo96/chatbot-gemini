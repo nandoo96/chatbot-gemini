{
  "nbformat": 4,
  "nbformat_minor": 0,
  "metadata": {
    "colab": {
      "provenance": [],
      "authorship_tag": "ABX9TyOBojTjr0LOmvAa0c73R0qx",
      "include_colab_link": true
    },
    "kernelspec": {
      "name": "python3",
      "display_name": "Python 3"
    },
    "language_info": {
      "name": "python"
    }
  },
  "cells": [
    {
      "cell_type": "markdown",
      "metadata": {
        "id": "view-in-github",
        "colab_type": "text"
      },
      "source": [
        "<a href=\"https://colab.research.google.com/github/nandoo96/chatbot-gemini/blob/master/Untitled0.ipynb\" target=\"_parent\"><img src=\"https://colab.research.google.com/assets/colab-badge.svg\" alt=\"Open In Colab\"/></a>"
      ]
    },
    {
      "cell_type": "markdown",
      "source": [
        "Instalando o JDK  do Google\n"
      ],
      "metadata": {
        "id": "QFfworXBmMUR"
      }
    },
    {
      "cell_type": "code",
      "execution_count": 3,
      "metadata": {
        "id": "L7EJYYjcl7ZV"
      },
      "outputs": [],
      "source": [
        "!pip install -U -q google-generativeai"
      ]
    },
    {
      "cell_type": "markdown",
      "source": [
        "Importando bibliotecas"
      ],
      "metadata": {
        "id": "YhGiIeE_rYxa"
      }
    },
    {
      "cell_type": "code",
      "source": [
        "import google.generativeai as genai\n",
        "from google.colab import userdata\n",
        "api_key = userdata.get('SECRET_KEY')\n",
        "genai.configure(api_key=api_key)"
      ],
      "metadata": {
        "id": "GIERvYVErehc"
      },
      "execution_count": 4,
      "outputs": []
    },
    {
      "cell_type": "markdown",
      "source": [
        "Parametrizando as configurações"
      ],
      "metadata": {
        "id": "XJsgrg-SoyZj"
      }
    },
    {
      "cell_type": "code",
      "source": [
        "generation_config = {\n",
        "    \"candidate_count\": 1,\n",
        "    \"temperature\": 0.5,\n",
        "}"
      ],
      "metadata": {
        "id": "ysi4SwZvoHBQ"
      },
      "execution_count": 5,
      "outputs": []
    },
    {
      "cell_type": "markdown",
      "source": [
        "Configurando os parametros de segurança"
      ],
      "metadata": {
        "id": "Flx1_mCPo3ca"
      }
    },
    {
      "cell_type": "code",
      "source": [
        "safety_settings = {\n",
        "    \"HARASSMENT\": \"BLOCK_NONE\",\n",
        "    \"HATE\": \"BLOCK_NONE\",\n",
        "    \"SEXUAL\": \"BLOCK_NONE\",\n",
        "    \"DANGEROUS\": \"BLOCK_NONE\",\n",
        "}"
      ],
      "metadata": {
        "id": "BDxIwN_No9GJ"
      },
      "execution_count": 6,
      "outputs": []
    },
    {
      "cell_type": "markdown",
      "source": [
        "Inicializando o modelo"
      ],
      "metadata": {
        "id": "2-xeVi5JpbV6"
      }
    },
    {
      "cell_type": "code",
      "source": [
        "model = genai.GenerativeModel(model_name=\"gemini-1.0-pro\", generation_config=generation_config, safety_settings=safety_settings)"
      ],
      "metadata": {
        "id": "YKNIUYJVplDZ"
      },
      "execution_count": 7,
      "outputs": []
    },
    {
      "cell_type": "markdown",
      "source": [
        "Criando uma response, treinando o modelo para gerar o conteúdo"
      ],
      "metadata": {
        "id": "3ssCRERcqMpT"
      }
    },
    {
      "cell_type": "code",
      "source": [
        "response = model.generate_content(\"O que é IA, e como ela funciona?\")\n",
        "print(response.text)"
      ],
      "metadata": {
        "colab": {
          "base_uri": "https://localhost:8080/",
          "height": 558
        },
        "id": "bPx4-4KXqSFX",
        "outputId": "50e788e4-1ce7-4c6f-f849-45e73c085055"
      },
      "execution_count": 11,
      "outputs": [
        {
          "output_type": "stream",
          "name": "stdout",
          "text": [
            "**Inteligência Artificial (IA)**\n",
            "\n",
            "A Inteligência Artificial (IA) é um campo da ciência da computação que se concentra no desenvolvimento de máquinas que podem executar tarefas que normalmente requerem inteligência humana, como aprendizado, resolução de problemas e tomada de decisão.\n",
            "\n",
            "**Como funciona a IA**\n",
            "\n",
            "Os sistemas de IA são projetados usando uma variedade de técnicas, incluindo:\n",
            "\n",
            "* **Aprendizado de Máquina (ML):** Os sistemas de ML são treinados em grandes conjuntos de dados para identificar padrões e fazer previsões.\n",
            "* **Aprendizado Profundo (DL):** Um subconjunto do ML que usa redes neurais artificiais para processar dados complexos, como imagens e linguagem.\n",
            "* **Processamento de Linguagem Natural (PNL):** Os sistemas de PNL permitem que os computadores entendam e gerem a linguagem humana.\n",
            "* **Visão Computacional:** Os sistemas de visão computacional permitem que os computadores \"vejam\" e interpretem imagens e vídeos.\n",
            "\n",
            "**Tipos de IA**\n",
            "\n",
            "Existem diferentes tipos de IA, cada um com suas próprias capacidades e limitações:\n",
            "\n",
            "* **IA Fraca (ANI):** Sistemas projetados para executar tarefas específicas, como reconhecimento de imagem ou tradução de idiomas.\n",
            "* **IA Geral (AGI):** Sistemas que podem realizar uma ampla gama de tarefas cognitivas, como raciocínio, aprendizado e resolução de problemas.\n",
            "* **IA Superinteligente (ASI):** Sistemas que superam as capacidades intelectuais dos humanos em todos os aspectos.\n",
            "\n",
            "**Aplicações da IA**\n",
            "\n",
            "A IA tem uma ampla gama de aplicações em vários setores, incluindo:\n",
            "\n",
            "* **Saúde:** Diagnóstico de doenças, desenvolvimento de medicamentos e assistência cirúrgica.\n",
            "* **Finanças:** Detecção de fraudes, análise de investimentos e gerenciamento de portfólios.\n",
            "* **Transporte:** Veículos autônomos, otimização de rotas e gerenciamento de tráfego.\n",
            "* ** varejo:** Recomendações personalizadas, previsão de demanda e gerenciamento de estoque.\n",
            "* **Entretenimento:** Criação de conteúdo, personalização de recomendações e jogos aprimorados.\n"
          ]
        }
      ]
    },
    {
      "cell_type": "markdown",
      "source": [
        "Criando o chat\n"
      ],
      "metadata": {
        "id": "-jKefLdLvkQQ"
      }
    },
    {
      "cell_type": "code",
      "source": [
        "chat = model.start_chat(history=[])"
      ],
      "metadata": {
        "id": "NIi66H_gvlvo"
      },
      "execution_count": 9,
      "outputs": []
    },
    {
      "cell_type": "code",
      "source": [
        "prompt = input(\"Esperando o prompt: \")\n",
        "\n",
        "while prompt != \"fim\":\n",
        "  response = chat.send_message(prompt)\n",
        "  print(\"Tradução: \", response.text, \"\\n\")\n",
        "  prompt = input(\"Esperando o prompt: \")"
      ],
      "metadata": {
        "colab": {
          "base_uri": "https://localhost:8080/",
          "height": 434
        },
        "id": "BeD3XpAVv_IH",
        "outputId": "539f9832-3fcd-427d-e5da-95e9c3212617"
      },
      "execution_count": 12,
      "outputs": [
        {
          "name": "stdout",
          "output_type": "stream",
          "text": [
            "Esperando o prompt: Qual a capital de Brasilia?\n",
            "Tradução:  Brasília\n",
            "\n",
            "Brasília é a capital do Brasil desde 1960. \n",
            "\n",
            "Esperando o prompt: Qual o jogador de futebol a conquistar mais bolas de ouro?\n",
            "Tradução:  Lionel Messi\n",
            "\n",
            "Lionel Messi conquistou 7 Bolas de Ouro, o maior número entre todos os jogadores de futebol.\n",
            "\n",
            "Ele ganhou o prêmio em 2009, 2010, 2011, 2012, 2015, 2019 e 2021. \n",
            "\n",
            "Esperando o prompt: liste os 5 jogadores que mais venceram a bola de ouro\n",
            "Tradução:  Os 5 jogadores que mais venceram a Bola de Ouro são:\n",
            "\n",
            "1. Lionel Messi (7)\n",
            "2. Cristiano Ronaldo (5)\n",
            "3. Michel Platini (3)\n",
            "4. Johan Cruyff (3)\n",
            "5. Marco van Basten (3)\n",
            "\n",
            "**Nota:** Lionel Messi é o único jogador a vencer a Bola de Ouro sete vezes. \n",
            "\n",
            "Esperando o prompt: fim\n"
          ]
        }
      ]
    }
  ]
}